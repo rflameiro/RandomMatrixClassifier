{
 "cells": [
  {
   "cell_type": "markdown",
   "metadata": {},
   "source": [
    "# Application of Random Matrix Theory to Drug Discovery\n",
    "\n",
    "### Laksh Aithani, University of Cambridge"
   ]
  },
  {
   "cell_type": "code",
   "execution_count": 1,
   "metadata": {},
   "outputs": [],
   "source": [
    "# Imports\n",
    "import os\n",
    "\n",
    "# RDkit, a chemoinformatics library\n",
    "import rdkit\n",
    "from rdkit import Chem\n",
    "from rdkit.Chem.Draw import IPythonConsole\n",
    "from rdkit.Chem import PandasTools\n",
    "\n",
    "import numpy as np\n",
    "import pandas as pd\n",
    "import matplotlib.pyplot as plt\n",
    "%matplotlib inline\n",
    "\n",
    "import sklearn\n",
    "from sklearn.preprocessing import StandardScaler\n",
    "from sklearn.model_selection import train_test_split"
   ]
  },
  {
   "cell_type": "code",
   "execution_count": 2,
   "metadata": {},
   "outputs": [],
   "source": [
    "import warnings\n",
    "warnings.filterwarnings('ignore')"
   ]
  },
  {
   "cell_type": "code",
   "execution_count": 3,
   "metadata": {},
   "outputs": [],
   "source": [
    "# Dataset loading functions for ChemBL datasets\n",
    "def load_dataset(file_name, drop_non_binders = True):\n",
    "    df = pd.read_csv(file_name, encoding = \"ISO-8859-1\")\n",
    "    \n",
    "    # Converting strings to floats, also set all non-numbers to NaN\n",
    "    df['Standard Vaue'] = pd.to_numeric(df['Standard Value'],errors = 'coerce')\n",
    "\n",
    "    # Drop Nans in affinity column\n",
    "    df.dropna(subset = ['Standard Value'], inplace = True)\n",
    "    df.reset_index(inplace = True)\n",
    "    df = df.drop('index',axis = 1)\n",
    "    \n",
    "    # Filtering for only activities recorded in nanomolar affinity\n",
    "    df = df[df['Standard Units'] == 'nM']    \n",
    "\n",
    "    # Dropping any molecules that don't have a SMILES\n",
    "    df = df.dropna(subset = ['Canonical Smiles'])\n",
    "    \n",
    "    # Considering only the binders (compounds with affinities of less than 1000nM)\n",
    "    if drop_non_binders:\n",
    "        df = df[df['Standard Value'] < 1000]\n",
    "    \n",
    "    # Dropping duplicate molecules\n",
    "    df = df.drop_duplicates(subset = 'Canonical Smiles', keep = 'first')\n",
    "    \n",
    "    return df"
   ]
  },
  {
   "cell_type": "code",
   "execution_count": 4,
   "metadata": {},
   "outputs": [],
   "source": [
    "df_train_test = load_dataset(os.path.join(os.getcwd(),'adr1b_chembl.csv'))\n",
    "df_decoy = load_dataset(os.path.join(os.getcwd(), '5ht1a_chembl.csv'), drop_non_binders = False)"
   ]
  },
  {
   "cell_type": "code",
   "execution_count": 5,
   "metadata": {
    "scrolled": true
   },
   "outputs": [
    {
     "data": {
      "text/html": [
       "<div>\n",
       "<style scoped>\n",
       "    .dataframe tbody tr th:only-of-type {\n",
       "        vertical-align: middle;\n",
       "    }\n",
       "\n",
       "    .dataframe tbody tr th {\n",
       "        vertical-align: top;\n",
       "    }\n",
       "\n",
       "    .dataframe thead th {\n",
       "        text-align: right;\n",
       "    }\n",
       "</style>\n",
       "<table border=\"1\" class=\"dataframe\">\n",
       "  <thead>\n",
       "    <tr style=\"text-align: right;\">\n",
       "      <th></th>\n",
       "      <th>Molecule</th>\n",
       "      <th>Standard Type</th>\n",
       "      <th>Standard Relation</th>\n",
       "      <th>Standard Value</th>\n",
       "      <th>Standard Units</th>\n",
       "      <th>pChEMBL Value</th>\n",
       "      <th>Comment</th>\n",
       "      <th>Compound Key</th>\n",
       "      <th>Assay</th>\n",
       "      <th>Assay Description</th>\n",
       "      <th>...</th>\n",
       "      <th>Published Units</th>\n",
       "      <th>Canonical Smiles</th>\n",
       "      <th>Data Validity Comment</th>\n",
       "      <th>Document Journal</th>\n",
       "      <th>Document Year</th>\n",
       "      <th>SRC ID</th>\n",
       "      <th>UO Units</th>\n",
       "      <th>Potential Duplicate</th>\n",
       "      <th>Unnamed: 43</th>\n",
       "      <th>Standard Vaue</th>\n",
       "    </tr>\n",
       "  </thead>\n",
       "  <tbody>\n",
       "    <tr>\n",
       "      <th>3</th>\n",
       "      <td>CHEMBL251347</td>\n",
       "      <td>Ki</td>\n",
       "      <td>=</td>\n",
       "      <td>730.00</td>\n",
       "      <td>nM</td>\n",
       "      <td>6.14</td>\n",
       "      <td>NaN</td>\n",
       "      <td>16b</td>\n",
       "      <td>CHEMBL888304</td>\n",
       "      <td>Displacement of [125I]iodocyanopindolol from h...</td>\n",
       "      <td>...</td>\n",
       "      <td>NaN</td>\n",
       "      <td>COc1ccc(cc1)[C@H](CCc2ccccc2)NC[C@H](O)Cc3ccc(...</td>\n",
       "      <td>NaN</td>\n",
       "      <td>Bioorg. Med. Chem. Lett.</td>\n",
       "      <td>2007.0</td>\n",
       "      <td>1</td>\n",
       "      <td>UO_0000065</td>\n",
       "      <td>FALSE</td>\n",
       "      <td>NaN</td>\n",
       "      <td>730.00</td>\n",
       "    </tr>\n",
       "    <tr>\n",
       "      <th>5</th>\n",
       "      <td>CHEMBL430390</td>\n",
       "      <td>EC50</td>\n",
       "      <td>=</td>\n",
       "      <td>19.95</td>\n",
       "      <td>nM</td>\n",
       "      <td>7.70</td>\n",
       "      <td>NaN</td>\n",
       "      <td>39</td>\n",
       "      <td>CHEMBL887286</td>\n",
       "      <td>Agonist activity at human beta-1 adrenergic re...</td>\n",
       "      <td>...</td>\n",
       "      <td>NaN</td>\n",
       "      <td>C[C@H](CNc1ccc(cc1)c2nc(cs2)C(=O)O)NC[C@H](O)c...</td>\n",
       "      <td>NaN</td>\n",
       "      <td>Bioorg. Med. Chem. Lett.</td>\n",
       "      <td>2007.0</td>\n",
       "      <td>1</td>\n",
       "      <td>UO_0000065</td>\n",
       "      <td>FALSE</td>\n",
       "      <td>NaN</td>\n",
       "      <td>19.95</td>\n",
       "    </tr>\n",
       "    <tr>\n",
       "      <th>9</th>\n",
       "      <td>CHEMBL26917</td>\n",
       "      <td>IC50</td>\n",
       "      <td>=</td>\n",
       "      <td>186.00</td>\n",
       "      <td>nM</td>\n",
       "      <td>6.73</td>\n",
       "      <td>NaN</td>\n",
       "      <td>13</td>\n",
       "      <td>CHEMBL650687</td>\n",
       "      <td>Compound was tested for inhibition of [3H]dihy...</td>\n",
       "      <td>...</td>\n",
       "      <td>NaN</td>\n",
       "      <td>CC(C)NCC(O)COc1ccc(C)c2CCCc12</td>\n",
       "      <td>NaN</td>\n",
       "      <td>J. Med. Chem.</td>\n",
       "      <td>1982.0</td>\n",
       "      <td>1</td>\n",
       "      <td>UO_0000065</td>\n",
       "      <td>FALSE</td>\n",
       "      <td>NaN</td>\n",
       "      <td>186.00</td>\n",
       "    </tr>\n",
       "    <tr>\n",
       "      <th>11</th>\n",
       "      <td>CHEMBL39596</td>\n",
       "      <td>Ki</td>\n",
       "      <td>=</td>\n",
       "      <td>310.00</td>\n",
       "      <td>nM</td>\n",
       "      <td>6.51</td>\n",
       "      <td>NaN</td>\n",
       "      <td>5</td>\n",
       "      <td>CHEMBL651835</td>\n",
       "      <td>Ability to bind to human Beta-1 adrenergic rec...</td>\n",
       "      <td>...</td>\n",
       "      <td>NaN</td>\n",
       "      <td>C[C@H](Cc1ccc(OCC(=O)NO)cc1)NC[C@H](O)c2cccc(C...</td>\n",
       "      <td>NaN</td>\n",
       "      <td>Bioorg. Med. Chem. Lett.</td>\n",
       "      <td>1997.0</td>\n",
       "      <td>1</td>\n",
       "      <td>UO_0000065</td>\n",
       "      <td>FALSE</td>\n",
       "      <td>NaN</td>\n",
       "      <td>310.00</td>\n",
       "    </tr>\n",
       "    <tr>\n",
       "      <th>14</th>\n",
       "      <td>CHEMBL52407</td>\n",
       "      <td>IC50</td>\n",
       "      <td>=</td>\n",
       "      <td>580.00</td>\n",
       "      <td>nM</td>\n",
       "      <td>6.24</td>\n",
       "      <td>NaN</td>\n",
       "      <td>7c</td>\n",
       "      <td>CHEMBL883288</td>\n",
       "      <td>In vitro binding affinity towards cloned human...</td>\n",
       "      <td>...</td>\n",
       "      <td>NaN</td>\n",
       "      <td>CCCCCCCCc1onc(n1)N2CCc3cc(ccc23)S(=O)(=O)Nc4cc...</td>\n",
       "      <td>NaN</td>\n",
       "      <td>Bioorg. Med. Chem. Lett.</td>\n",
       "      <td>1999.0</td>\n",
       "      <td>1</td>\n",
       "      <td>UO_0000065</td>\n",
       "      <td>FALSE</td>\n",
       "      <td>NaN</td>\n",
       "      <td>580.00</td>\n",
       "    </tr>\n",
       "  </tbody>\n",
       "</table>\n",
       "<p>5 rows × 45 columns</p>\n",
       "</div>"
      ],
      "text/plain": [
       "        Molecule Standard Type Standard Relation  Standard Value  \\\n",
       "3   CHEMBL251347            Ki                 =          730.00   \n",
       "5   CHEMBL430390          EC50                 =           19.95   \n",
       "9    CHEMBL26917          IC50                 =          186.00   \n",
       "11   CHEMBL39596            Ki                 =          310.00   \n",
       "14   CHEMBL52407          IC50                 =          580.00   \n",
       "\n",
       "   Standard Units  pChEMBL Value Comment Compound Key         Assay  \\\n",
       "3              nM           6.14     NaN          16b  CHEMBL888304   \n",
       "5              nM           7.70     NaN           39  CHEMBL887286   \n",
       "9              nM           6.73     NaN           13  CHEMBL650687   \n",
       "11             nM           6.51     NaN            5  CHEMBL651835   \n",
       "14             nM           6.24     NaN           7c  CHEMBL883288   \n",
       "\n",
       "                                    Assay Description  ... Published Units  \\\n",
       "3   Displacement of [125I]iodocyanopindolol from h...  ...             NaN   \n",
       "5   Agonist activity at human beta-1 adrenergic re...  ...             NaN   \n",
       "9   Compound was tested for inhibition of [3H]dihy...  ...             NaN   \n",
       "11  Ability to bind to human Beta-1 adrenergic rec...  ...             NaN   \n",
       "14  In vitro binding affinity towards cloned human...  ...             NaN   \n",
       "\n",
       "                                     Canonical Smiles Data Validity Comment  \\\n",
       "3   COc1ccc(cc1)[C@H](CCc2ccccc2)NC[C@H](O)Cc3ccc(...                   NaN   \n",
       "5   C[C@H](CNc1ccc(cc1)c2nc(cs2)C(=O)O)NC[C@H](O)c...                   NaN   \n",
       "9                       CC(C)NCC(O)COc1ccc(C)c2CCCc12                   NaN   \n",
       "11  C[C@H](Cc1ccc(OCC(=O)NO)cc1)NC[C@H](O)c2cccc(C...                   NaN   \n",
       "14  CCCCCCCCc1onc(n1)N2CCc3cc(ccc23)S(=O)(=O)Nc4cc...                   NaN   \n",
       "\n",
       "            Document Journal Document Year SRC ID    UO Units  \\\n",
       "3   Bioorg. Med. Chem. Lett.        2007.0      1  UO_0000065   \n",
       "5   Bioorg. Med. Chem. Lett.        2007.0      1  UO_0000065   \n",
       "9              J. Med. Chem.        1982.0      1  UO_0000065   \n",
       "11  Bioorg. Med. Chem. Lett.        1997.0      1  UO_0000065   \n",
       "14  Bioorg. Med. Chem. Lett.        1999.0      1  UO_0000065   \n",
       "\n",
       "   Potential Duplicate  Unnamed: 43  Standard Vaue  \n",
       "3                FALSE          NaN         730.00  \n",
       "5                FALSE          NaN          19.95  \n",
       "9                FALSE          NaN         186.00  \n",
       "11               FALSE          NaN         310.00  \n",
       "14               FALSE          NaN         580.00  \n",
       "\n",
       "[5 rows x 45 columns]"
      ]
     },
     "execution_count": 5,
     "metadata": {},
     "output_type": "execute_result"
    }
   ],
   "source": [
    "df_train_test.head()"
   ]
  },
  {
   "cell_type": "code",
   "execution_count": 6,
   "metadata": {
    "scrolled": false
   },
   "outputs": [
    {
     "data": {
      "text/html": [
       "<div>\n",
       "<style scoped>\n",
       "    .dataframe tbody tr th:only-of-type {\n",
       "        vertical-align: middle;\n",
       "    }\n",
       "\n",
       "    .dataframe tbody tr th {\n",
       "        vertical-align: top;\n",
       "    }\n",
       "\n",
       "    .dataframe thead th {\n",
       "        text-align: right;\n",
       "    }\n",
       "</style>\n",
       "<table border=\"1\" class=\"dataframe\">\n",
       "  <thead>\n",
       "    <tr style=\"text-align: right;\">\n",
       "      <th></th>\n",
       "      <th>Molecule</th>\n",
       "      <th>Standard Type</th>\n",
       "      <th>Standard Relation</th>\n",
       "      <th>Standard Value</th>\n",
       "      <th>Standard Units</th>\n",
       "      <th>pChEMBL Value</th>\n",
       "      <th>Comment</th>\n",
       "      <th>Compound Key</th>\n",
       "      <th>Assay</th>\n",
       "      <th>Assay Description</th>\n",
       "      <th>...</th>\n",
       "      <th>Published Value</th>\n",
       "      <th>Published Units</th>\n",
       "      <th>Canonical Smiles</th>\n",
       "      <th>Data Validity Comment</th>\n",
       "      <th>Document Journal</th>\n",
       "      <th>Document Year</th>\n",
       "      <th>SRC ID</th>\n",
       "      <th>UO Units</th>\n",
       "      <th>Potential Duplicate</th>\n",
       "      <th>Standard Vaue</th>\n",
       "    </tr>\n",
       "  </thead>\n",
       "  <tbody>\n",
       "    <tr>\n",
       "      <th>0</th>\n",
       "      <td>CHEMBL27393</td>\n",
       "      <td>Ki</td>\n",
       "      <td>=</td>\n",
       "      <td>11.000</td>\n",
       "      <td>nM</td>\n",
       "      <td>7.96</td>\n",
       "      <td>NaN</td>\n",
       "      <td>23</td>\n",
       "      <td>CHEMBL616058</td>\n",
       "      <td>Binding affinity towards 5-hydroxytryptamine 1...</td>\n",
       "      <td>...</td>\n",
       "      <td>NaN</td>\n",
       "      <td>NaN</td>\n",
       "      <td>O=C(NCCCCN1CCN(CC1)c2ccccc2)c3ccccc3</td>\n",
       "      <td>NaN</td>\n",
       "      <td>J. Med. Chem.</td>\n",
       "      <td>1988.0</td>\n",
       "      <td>1</td>\n",
       "      <td>UO_0000065</td>\n",
       "      <td>True</td>\n",
       "      <td>11.000</td>\n",
       "    </tr>\n",
       "    <tr>\n",
       "      <th>1</th>\n",
       "      <td>CHEMBL352029</td>\n",
       "      <td>IC50</td>\n",
       "      <td>=</td>\n",
       "      <td>10.200</td>\n",
       "      <td>nM</td>\n",
       "      <td>7.99</td>\n",
       "      <td>NaN</td>\n",
       "      <td>2</td>\n",
       "      <td>CHEMBL615830</td>\n",
       "      <td>Binding affinity to 5-hydroxytryptamine 1A rec...</td>\n",
       "      <td>...</td>\n",
       "      <td>NaN</td>\n",
       "      <td>NaN</td>\n",
       "      <td>CC1=COc2ccccc2C(=O)N1CCCCN3CCN(CC3)c4ncccn4</td>\n",
       "      <td>NaN</td>\n",
       "      <td>Bioorg. Med. Chem. Lett.</td>\n",
       "      <td>2001.0</td>\n",
       "      <td>1</td>\n",
       "      <td>UO_0000065</td>\n",
       "      <td>False</td>\n",
       "      <td>10.200</td>\n",
       "    </tr>\n",
       "    <tr>\n",
       "      <th>2</th>\n",
       "      <td>CHEMBL92630</td>\n",
       "      <td>Ki</td>\n",
       "      <td>=</td>\n",
       "      <td>1600.000</td>\n",
       "      <td>nM</td>\n",
       "      <td>5.80</td>\n",
       "      <td>NaN</td>\n",
       "      <td>5</td>\n",
       "      <td>CHEMBL616310</td>\n",
       "      <td>Tested for affinity against 5-hydroxytryptamin...</td>\n",
       "      <td>...</td>\n",
       "      <td>NaN</td>\n",
       "      <td>NaN</td>\n",
       "      <td>CCCN1CCC[C@H](C1)c2cccc(OS(=O)(=O)c3ccc(C)cc3)c2</td>\n",
       "      <td>NaN</td>\n",
       "      <td>J. Med. Chem.</td>\n",
       "      <td>1994.0</td>\n",
       "      <td>1</td>\n",
       "      <td>UO_0000065</td>\n",
       "      <td>False</td>\n",
       "      <td>1600.000</td>\n",
       "    </tr>\n",
       "    <tr>\n",
       "      <th>3</th>\n",
       "      <td>CHEMBL43513</td>\n",
       "      <td>IC50</td>\n",
       "      <td>=</td>\n",
       "      <td>420.000</td>\n",
       "      <td>nM</td>\n",
       "      <td>6.38</td>\n",
       "      <td>NaN</td>\n",
       "      <td>19</td>\n",
       "      <td>CHEMBL615901</td>\n",
       "      <td>Inhibition of [3H]8-OH-DPAT binding at seroton...</td>\n",
       "      <td>...</td>\n",
       "      <td>NaN</td>\n",
       "      <td>NaN</td>\n",
       "      <td>O=C1N(CC#CCN2CCN(CC2)c3nsc4ccccc34)C(=O)c5ccccc15</td>\n",
       "      <td>NaN</td>\n",
       "      <td>J. Med. Chem.</td>\n",
       "      <td>1996.0</td>\n",
       "      <td>1</td>\n",
       "      <td>UO_0000065</td>\n",
       "      <td>False</td>\n",
       "      <td>420.000</td>\n",
       "    </tr>\n",
       "    <tr>\n",
       "      <th>4</th>\n",
       "      <td>CHEMBL132657</td>\n",
       "      <td>Ki</td>\n",
       "      <td>=</td>\n",
       "      <td>3.715</td>\n",
       "      <td>nM</td>\n",
       "      <td>8.43</td>\n",
       "      <td>NaN</td>\n",
       "      <td>26</td>\n",
       "      <td>CHEMBL616349</td>\n",
       "      <td>Binding affinity at 5-hydroxytryptamine 1A rec...</td>\n",
       "      <td>...</td>\n",
       "      <td>NaN</td>\n",
       "      <td>NaN</td>\n",
       "      <td>Clc1cccc2C(CCCN3CCN(CC3)c4cccc5OCCOc45)Cc12</td>\n",
       "      <td>NaN</td>\n",
       "      <td>J. Med. Chem.</td>\n",
       "      <td>1995.0</td>\n",
       "      <td>1</td>\n",
       "      <td>UO_0000065</td>\n",
       "      <td>False</td>\n",
       "      <td>3.715</td>\n",
       "    </tr>\n",
       "  </tbody>\n",
       "</table>\n",
       "<p>5 rows × 44 columns</p>\n",
       "</div>"
      ],
      "text/plain": [
       "       Molecule Standard Type Standard Relation  Standard Value  \\\n",
       "0   CHEMBL27393            Ki                 =          11.000   \n",
       "1  CHEMBL352029          IC50                 =          10.200   \n",
       "2   CHEMBL92630            Ki                 =        1600.000   \n",
       "3   CHEMBL43513          IC50                 =         420.000   \n",
       "4  CHEMBL132657            Ki                 =           3.715   \n",
       "\n",
       "  Standard Units  pChEMBL Value  Comment Compound Key         Assay  \\\n",
       "0             nM           7.96      NaN           23  CHEMBL616058   \n",
       "1             nM           7.99      NaN            2  CHEMBL615830   \n",
       "2             nM           5.80      NaN            5  CHEMBL616310   \n",
       "3             nM           6.38      NaN           19  CHEMBL615901   \n",
       "4             nM           8.43      NaN           26  CHEMBL616349   \n",
       "\n",
       "                                   Assay Description  ... Published Value  \\\n",
       "0  Binding affinity towards 5-hydroxytryptamine 1...  ...             NaN   \n",
       "1  Binding affinity to 5-hydroxytryptamine 1A rec...  ...             NaN   \n",
       "2  Tested for affinity against 5-hydroxytryptamin...  ...             NaN   \n",
       "3  Inhibition of [3H]8-OH-DPAT binding at seroton...  ...             NaN   \n",
       "4  Binding affinity at 5-hydroxytryptamine 1A rec...  ...             NaN   \n",
       "\n",
       "  Published Units                                   Canonical Smiles  \\\n",
       "0             NaN               O=C(NCCCCN1CCN(CC1)c2ccccc2)c3ccccc3   \n",
       "1             NaN        CC1=COc2ccccc2C(=O)N1CCCCN3CCN(CC3)c4ncccn4   \n",
       "2             NaN   CCCN1CCC[C@H](C1)c2cccc(OS(=O)(=O)c3ccc(C)cc3)c2   \n",
       "3             NaN  O=C1N(CC#CCN2CCN(CC2)c3nsc4ccccc34)C(=O)c5ccccc15   \n",
       "4             NaN        Clc1cccc2C(CCCN3CCN(CC3)c4cccc5OCCOc45)Cc12   \n",
       "\n",
       "  Data Validity Comment          Document Journal Document Year SRC ID  \\\n",
       "0                   NaN             J. Med. Chem.        1988.0      1   \n",
       "1                   NaN  Bioorg. Med. Chem. Lett.        2001.0      1   \n",
       "2                   NaN             J. Med. Chem.        1994.0      1   \n",
       "3                   NaN             J. Med. Chem.        1996.0      1   \n",
       "4                   NaN             J. Med. Chem.        1995.0      1   \n",
       "\n",
       "     UO Units  Potential Duplicate  Standard Vaue  \n",
       "0  UO_0000065                 True         11.000  \n",
       "1  UO_0000065                False         10.200  \n",
       "2  UO_0000065                False       1600.000  \n",
       "3  UO_0000065                False        420.000  \n",
       "4  UO_0000065                False          3.715  \n",
       "\n",
       "[5 rows x 44 columns]"
      ]
     },
     "execution_count": 6,
     "metadata": {},
     "output_type": "execute_result"
    }
   ],
   "source": [
    "df_decoy.head()"
   ]
  },
  {
   "cell_type": "code",
   "execution_count": 7,
   "metadata": {},
   "outputs": [],
   "source": [
    "def generate_morgan_matrix(smiles):\n",
    "    \n",
    "    # Function that generates the Morgan matrix - can take a couple of minutes\n",
    "    # for 1000s of molecules\n",
    "    \n",
    "    # Input is a pandas Series of SMILES representation of molecules\n",
    "    \n",
    "    morgan_matrix = np.zeros((1,2048))\n",
    "    l = len(smiles)\n",
    "    \n",
    "    # Iterate through the compounds\n",
    "    for i in range(l):\n",
    "        \n",
    "        # For each compound, get the structure, convert to Morgan fingerprint,\n",
    "        # and add to the data matrix\n",
    "        \n",
    "        try:\n",
    "            compound = Chem.MolFromSmiles(smiles[i])\n",
    "            fp = Chem.AllChem.GetMorganFingerprintAsBitVect(compound, 2, nBits = 2048)\n",
    "            fp = fp.ToBitString()\n",
    "            matrix_row = np.array([int(x) for x in list(fp)])\n",
    "            morgan_matrix = np.row_stack((morgan_matrix, matrix_row))\n",
    "            \n",
    "            # Progress checker\n",
    "            if i%500==0:\n",
    "                percentage = np.round(100*(i/l),1)\n",
    "                print(f'{percentage}% done')\n",
    "        except:\n",
    "            print(f'problem index:{i}')\n",
    "    \n",
    "    # Deleting first row of zeros\n",
    "    morgan_matrix = np.delete(morgan_matrix, 0, axis = 0)\n",
    "    \n",
    "    print('\\n')\n",
    "    print(f'Morgan Matrix dimensions:{morgan_matrix.shape}')\n",
    "    return morgan_matrix"
   ]
  },
  {
   "cell_type": "code",
   "execution_count": 8,
   "metadata": {},
   "outputs": [],
   "source": [
    "smiles_train_test = df_train_test['Canonical Smiles']\n",
    "smiles_train_test = smiles_train_test.reset_index()['Canonical Smiles']\n",
    "affinity_train_test = df_train_test['Standard Value']\n",
    "\n",
    "# Making \n",
    "binding_threshold = 1000  # units of nM\n",
    "affinity_train_test = affinity_train_test.apply(lambda x: 0 if x > binding_threshold else 1)\n",
    "\n",
    "smiles_decoy = df_decoy['Canonical Smiles']\n",
    "smiles_decoy = smiles_decoy.reset_index()['Canonical Smiles']\n",
    "affinity_decoy = pd.Series([0 for i in range(len(smiles_decoy))])"
   ]
  },
  {
   "cell_type": "code",
   "execution_count": 9,
   "metadata": {
    "scrolled": true
   },
   "outputs": [
    {
     "name": "stdout",
     "output_type": "stream",
     "text": [
      "0.0% done\n",
      "56.1% done\n",
      "\n",
      "\n",
      "Morgan Matrix dimensions:(892, 2048)\n"
     ]
    }
   ],
   "source": [
    "Morgan_matrix_train_test = generate_morgan_matrix(smiles_train_test)"
   ]
  },
  {
   "cell_type": "code",
   "execution_count": 221,
   "metadata": {
    "scrolled": false
   },
   "outputs": [
    {
     "name": "stdout",
     "output_type": "stream",
     "text": [
      "0.0% done\n",
      "12.3% done\n",
      "24.6% done\n",
      "36.8% done\n",
      "49.1% done\n",
      "61.4% done\n",
      "73.7% done\n",
      "86.0% done\n",
      "98.2% done\n",
      "\n",
      "\n",
      "Morgan Matrix dimensions:(4072, 2048)\n"
     ]
    }
   ],
   "source": [
    "Morgan_matrix_decoy = generate_morgan_matrix(smiles_decoy)"
   ]
  },
  {
   "cell_type": "code",
   "execution_count": 222,
   "metadata": {},
   "outputs": [],
   "source": [
    "X_train, X_test, y_train, y_test = train_test_split(Morgan_matrix_train_test, affinity_train_test, random_state = 3)"
   ]
  },
  {
   "cell_type": "code",
   "execution_count": 223,
   "metadata": {},
   "outputs": [],
   "source": [
    "y_train = y_train.reset_index()\n",
    "y_test = y_test.reset_index()"
   ]
  },
  {
   "cell_type": "code",
   "execution_count": 224,
   "metadata": {},
   "outputs": [
    {
     "data": {
      "text/plain": [
       "(669, 2048)"
      ]
     },
     "execution_count": 224,
     "metadata": {},
     "output_type": "execute_result"
    }
   ],
   "source": [
    "X_train.shape"
   ]
  },
  {
   "cell_type": "code",
   "execution_count": 225,
   "metadata": {},
   "outputs": [
    {
     "data": {
      "text/plain": [
       "(892, 2048)"
      ]
     },
     "execution_count": 225,
     "metadata": {},
     "output_type": "execute_result"
    }
   ],
   "source": [
    "Morgan_matrix_train_test.shape"
   ]
  },
  {
   "cell_type": "code",
   "execution_count": 226,
   "metadata": {},
   "outputs": [],
   "source": [
    "scaler = StandardScaler().fit(X_train)\n",
    "X_train = scaler.transform(X_train)\n",
    "X_test = scaler.transform(X_test)\n",
    "Morgan_matrix_decoy = scaler.transform(Morgan_matrix_decoy)"
   ]
  },
  {
   "cell_type": "code",
   "execution_count": null,
   "metadata": {},
   "outputs": [],
   "source": [
    "# Generate list of the column indices that will be used to delete the columns\n",
    "cols_to_delete = []\n",
    "for col_idx in range(X_train.shape[1]):\n",
    "    if X_train[:,col_idx].std()==0.0:\n",
    "        cols_to_delete.append(col_idx)"
   ]
  },
  {
   "cell_type": "code",
   "execution_count": null,
   "metadata": {},
   "outputs": [],
   "source": [
    "def delete_columns(matrix, cols_to_delete):\n",
    "    return np.delete(matrix, cols_to_delete, axis = 1)"
   ]
  },
  {
   "cell_type": "code",
   "execution_count": null,
   "metadata": {},
   "outputs": [],
   "source": [
    "# Delete columns/features in all matrices that have 0 std in the training matrix\n",
    "X_train = delete_columns(X_train, cols_to_delete)\n",
    "X_test = delete_columns(X_test, cols_to_delete)\n",
    "Morgan_matrix_decoy = delete_columns(Morgan_matrix_decoy, cols_to_delete)"
   ]
  },
  {
   "cell_type": "code",
   "execution_count": 15,
   "metadata": {},
   "outputs": [],
   "source": [
    "def projection(trial_molecule,dim_V, p, feature_vecs):\n",
    "    trial_molecule_proj = np.zeros(p)\n",
    "    for idx in range(dim_V):\n",
    "        dotprod = float(np.vdot(feature_vecs[:,idx], trial_molecule))\n",
    "        trial_molecule_proj = trial_molecule_proj + dotprod * feature_vecs[:,idx]\n",
    "    \n",
    "    return np.array([float(i) for i in trial_molecule_proj])"
   ]
  },
  {
   "cell_type": "code",
   "execution_count": 313,
   "metadata": {},
   "outputs": [],
   "source": [
    "class RMTClassifier(object):\n",
    "    \n",
    "    def __init__(self,threshold_multiple = 1,train_cutoff = 0.95):\n",
    "        self.thresh_multiple = threshold_multiple\n",
    "        self.train_cutoff = train_cutoff\n",
    "        \n",
    "        self.epsilon = None\n",
    "        self.feature_vecs = None\n",
    "        self.dim_V = None\n",
    "        self.p = None\n",
    "        \n",
    "        self.test_set_similarity = None\n",
    "        \n",
    "    def fit(self, train_mat):\n",
    "        \n",
    "        # This code explains better what is going on\n",
    "        \n",
    "        N,p = train_mat.shape\n",
    "        self.p = p\n",
    "        # Eigenvalue threshold from Random Matrix Theory\n",
    "        # https://www.pnas.org/content/113/48/13564#ref-11\n",
    "        gamma = p/N #Gamma describes how well-sampled the data matrix is\n",
    "        thresh = ((1 + np.sqrt(gamma))**2)*self.thresh_multiple\n",
    "\n",
    "        \n",
    "        # Correlation matrix\n",
    "        C = np.dot(train_mat.T, train_mat)/N\n",
    "        \n",
    "        # Eigenvalues of correlation matrix (think PCA)\n",
    "        evals, evecs = np.linalg.eig(C)\n",
    "        idx = evals.argsort()\n",
    "        idx = idx[::-1]\n",
    "        evals = evals[idx]\n",
    "        evecs = evecs[:,idx]\n",
    "        \n",
    "        # Find significant feature space V\n",
    "        dim_V = evals[evals > thresh].shape[0]\n",
    "        feature_vecs = evecs[:,:dim_V]\n",
    "        \n",
    "        self.dim_V, self.feature_vecs = dim_V, feature_vecs\n",
    "        \n",
    "        # Project molecules onto V and then compute similarity beween molecules and projection\n",
    "        similarity = []\n",
    "        for mol_vec_idx in range(N):\n",
    "            trial_molecule = train_mat[mol_vec_idx,:]\n",
    "            trial_molecule_proj = projection(trial_molecule, dim_V, p, feature_vecs)\n",
    "            similarity.append(np.linalg.norm(trial_molecule-trial_molecule_proj))\n",
    "            \n",
    "        # Find cutoff such that 95% (or specified otherwise) of training molecules are classified as binders\n",
    "        similarity.sort()\n",
    "        similarity = np.array(similarity)\n",
    "        cutoff_idx = int(self.train_cutoff * len(similarity))\n",
    "        epsilon = similarity[cutoff_idx]\n",
    "        self.epsilon = epsilon\n",
    "        \n",
    "    def fit2(self, train_mat):\n",
    "        \n",
    "        # This code is optimized for speed using numpy matrix operations\n",
    "        \n",
    "        N,p = train_mat.shape\n",
    "        self.p = p\n",
    "        # Eigenvalue threshold from Random Matrix Theory\n",
    "        # https://www.pnas.org/content/113/48/13564#ref-11\n",
    "        gamma = p/N #Gamma describes how well-sampled the data matrix is\n",
    "        thresh = ((1 + np.sqrt(gamma))**2)*self.thresh_multiple\n",
    "\n",
    "        \n",
    "        # Correlation matrix\n",
    "        C = np.dot(train_mat.T, train_mat)/N\n",
    "        \n",
    "        # Eigenvalues of correlation matrix (think PCA)\n",
    "        evals, evecs = np.linalg.eig(C)\n",
    "        idx = evals.argsort()\n",
    "        idx = idx[::-1]\n",
    "        evals = evals[idx]\n",
    "        evecs = evecs[:,idx]\n",
    "        \n",
    "        # Find significant feature space V\n",
    "        dim_V = evals[evals > thresh].shape[0]\n",
    "        feature_vecs = evecs[:,:dim_V]\n",
    "        \n",
    "        self.dim_V, self.feature_vecs = dim_V, feature_vecs\n",
    "        \n",
    "        # Project molecules onto V and then compute similarity beween molecules and projection\n",
    "        similarity = []\n",
    "        A = np.dot(train_mat, self.feature_vecs)\n",
    "\n",
    "        for mol_idx in range(N):\n",
    "            trial_molecule = train_mat[mol_idx,:]\n",
    "            trial_molecule_proj = np.sum( np.dot( self.feature_vecs, np.diag(A[mol_idx,:])  ) , axis = 1 )\n",
    "            similarity.append(np.linalg.norm(trial_molecule-trial_molecule_proj))\n",
    "            \n",
    "        # Find cutoff such that 95% (or specified otherwise) of training molecules are classified as binders\n",
    "        similarity.sort()\n",
    "        similarity = np.array(similarity)\n",
    "        cutoff_idx = int(self.train_cutoff * len(similarity))\n",
    "        epsilon = similarity[cutoff_idx]\n",
    "        self.epsilon = epsilon\n",
    "    \n",
    "    def predict(self, test_set, epsilon_multiple = 1):\n",
    "        # Validation of a test set\n",
    "        test_set_similarity = []\n",
    "        for mol_vec_idx in range(test_set.shape[0]):\n",
    "            trial_molecule = test_set[mol_vec_idx,:]\n",
    "            trial_molecule_proj = projection(trial_molecule,self.dim_V, self.p, self.feature_vecs)\n",
    "            test_set_similarity.append( np.linalg.norm( trial_molecule - trial_molecule_proj) )\n",
    "        \n",
    "        self.test_set_similarity = test_set_similarity\n",
    "        \n",
    "        predictions = np.array([1 if x<self.epsilon*epsilon_multiple else 0 for x in test_set_similarity])\n",
    "        \n",
    "        return predictions\n",
    "    \n",
    "    def predict2(self, test_set, epsilon_multiple = 1):\n",
    "        test_set_similarity = []\n",
    "        \n",
    "        A = np.dot(test_set,self.feature_vecs)\n",
    "        \n",
    "        for mol_idx in range(test_set.shape[0]):\n",
    "            #trial_molecule = test_set[mol_idx,:]\n",
    "            trial_molecule_proj = np.sum(  np.dot(self.feature_vecs,np.diag(A[mol_idx,:])),axis = 1)\n",
    "            test_set_similarity.append(   np.linalg.norm(test_set[mol_idx,:] - trial_molecule_proj))\n",
    "        \n",
    "        self.test_set_similarity = test_set_similarity\n",
    "        \n",
    "        predictions = np.array([1 if x<self.epsilon*epsilon_multiple else 0 for x in test_set_similarity])\n",
    "        \n",
    "        return predictions\n",
    "    \n",
    "    def return_indices_of_common_molecules_of_eig(self, matrix, n=5,eigenvector_index=0):\n",
    "        \n",
    "        # returns molecules that lie closest to the selected eigenvector\n",
    "        # default number of molecules returned = 5\n",
    "        \n",
    "        # Pick out the (best) eigenvector\n",
    "        eig = self.feature_vecs[:,eigenvector_index].reshape(clf.p,1)\n",
    "        \n",
    "        # Project molecules onto the one-dimensional vector space and get the indices of the top 5 molecules\n",
    "        # https://stackoverflow.com/questions/6910641/how-do-i-get-indices-of-n-maximum-values-in-a-numpy-array\n",
    "        return np.argpartition(    np.dot(matrix, eig).reshape(matrix.shape[0])   , -n)[-n:]\n",
    "        \n",
    "        \n",
    "\n",
    "\n",
    "        "
   ]
  },
  {
   "cell_type": "code",
   "execution_count": 314,
   "metadata": {},
   "outputs": [],
   "source": [
    "# Fit the model\n",
    "clf = RMTClassifier()\n",
    "clf.fit2(X_train)"
   ]
  },
  {
   "cell_type": "code",
   "execution_count": 315,
   "metadata": {
    "scrolled": true
   },
   "outputs": [
    {
     "data": {
      "text/plain": [
       "0.9237668161434978"
      ]
     },
     "execution_count": 315,
     "metadata": {},
     "output_type": "execute_result"
    }
   ],
   "source": [
    "# Predict true positive rate\n",
    "test_preds = clf.predict2(X_test)\n",
    "np.mean(test_preds)"
   ]
  },
  {
   "cell_type": "code",
   "execution_count": 439,
   "metadata": {},
   "outputs": [
    {
     "data": {
      "text/plain": [
       "0.1662573673870334"
      ]
     },
     "execution_count": 439,
     "metadata": {},
     "output_type": "execute_result"
    }
   ],
   "source": [
    "# Predict false positive rate\n",
    "decoy_preds = clf.predict2(Morgan_matrix_decoy)\n",
    "np.mean(decoy_preds)"
   ]
  },
  {
   "cell_type": "code",
   "execution_count": 440,
   "metadata": {},
   "outputs": [
    {
     "name": "stdout",
     "output_type": "stream",
     "text": [
      "[171 472 189 545 466 343 311 242]\n"
     ]
    },
    {
     "data": {
      "image/png": "[encoded data removed]",
      "text/plain": [
       "<rdkit.Chem.rdchem.Mol at 0x26706b2bd50>"
      ]
     },
     "execution_count": 440,
     "metadata": {},
     "output_type": "execute_result"
    }
   ],
   "source": [
    "# Code to get pharmacophore of an eigenvector\n",
    "\n",
    "from rdkit.Chem import rdFMCS\n",
    "\n",
    "# Specify which eigenvector/pharmacophore you want to find (eigenvector_index)\n",
    "# Specify the number of molecules to search substructure (n)\n",
    "idxs = clf.return_indices_of_common_molecules_of_eig(X_train,n=8,eigenvector_index=0)\n",
    "print(idxs)\n",
    "\n",
    "df_idxs = y_train.iloc[idxs,:]['index']\n",
    "smiles_strings = df_train_test.loc[df_idxs]['Canonical Smiles']\n",
    "mls = [Chem.MolFromSmiles(x) for x in list(smiles_strings)]\n",
    "res = rdFMCS.FindMCS(mls)\n",
    "patt = Chem.MolFromSmarts(res.smartsString);patt"
   ]
  },
  {
   "cell_type": "code",
   "execution_count": 139,
   "metadata": {},
   "outputs": [
    {
     "data": {
      "text/plain": [
       "(0.9147982062780269, 0.0)"
      ]
     },
     "execution_count": 139,
     "metadata": {},
     "output_type": "execute_result"
    }
   ],
   "source": [
    "clf = RMTClassifier()\n",
    "clf.fit(X_train)\n",
    "test_preds = clf.predict(X_test)\n",
    "decoy_preds = clf.predict(Morgan_matrix_decoy)\n",
    "np.mean(test_preds),np.mean(decoy_preds)"
   ]
  },
  {
   "cell_type": "code",
   "execution_count": null,
   "metadata": {},
   "outputs": [],
   "source": [
    "test_preds = clf.predict(X_test, epsilon_multiple = 0.9)\n",
    "np.mean(test_preds)"
   ]
  },
  {
   "cell_type": "code",
   "execution_count": 138,
   "metadata": {},
   "outputs": [
    {
     "data": {
      "text/plain": [
       "(1.0, 0.08644400785854617)"
      ]
     },
     "execution_count": 138,
     "metadata": {},
     "output_type": "execute_result"
    }
   ],
   "source": [
    "test_preds = clf.predict(X_test, epsilon_multiple = 0.9)\n",
    "decoy_preds = clf.predict(Morgan_matrix_decoy, epsilon_multiple = 0.9)\n",
    "np.mean(test_preds),np.mean(decoy_preds)"
   ]
  },
  {
   "cell_type": "code",
   "execution_count": 18,
   "metadata": {},
   "outputs": [],
   "source": [
    "def false_positive_true_positive(clf,multiple):\n",
    "    # Must be a fitted classifier\n",
    "    test_preds = clf.predict2(X_test,epsilon_multiple = multiple)\n",
    "    decoy_preds = clf.predict2(Morgan_matrix_decoy, epsilon_multiple = multiple)\n",
    "    tp = np.mean(test_preds)\n",
    "    fp = np.mean(decoy_preds)\n",
    "    return fp, tp"
   ]
  },
  {
   "cell_type": "code",
   "execution_count": null,
   "metadata": {
    "scrolled": true
   },
   "outputs": [],
   "source": [
    "# Plot ROC Curve\n",
    "x,y = [],[]\n",
    "for idx,val in enumerate(np.linspace(0.4,2,25)):\n",
    "    \n",
    "    # Progress checker\n",
    "    if idx%3==0:\n",
    "        print(f'progress:{(idx+1)*4}%')\n",
    "    fp, tp = false_positive_true_positive(clf,val)\n",
    "    x.append(fp)\n",
    "    y.append(tp)"
   ]
  },
  {
   "cell_type": "code",
   "execution_count": null,
   "metadata": {},
   "outputs": [],
   "source": [
    "AUC = sklearn.metrics.auc(x, y)\n",
    "AUC = round(AUC,2); AUC"
   ]
  },
  {
   "cell_type": "code",
   "execution_count": null,
   "metadata": {},
   "outputs": [],
   "source": [
    "fig = plt.figure()\n",
    "ax = fig.add_subplot(111)\n",
    "fig.subplots_adjust(top=0.85)\n",
    "ax.set_title('Receiver Operating Characteristic (ROC) Curve')\n",
    "ax.set_xlabel('False positive')\n",
    "ax.set_ylabel('True positive')\n",
    "ax.text(0.76,0.15, f'AUC:{str(AUC)}', style='italic',\n",
    "        bbox={'facecolor': 'green', 'alpha': 0.5, 'pad': 10})\n",
    "ax.plot(x, y)\n",
    "ax.plot(np.linspace(0,1,100),np.linspace(0,1,100),'--')\n",
    "ax.axis([0, 1, 0, 1])\n",
    "plt.show()\n",
    "fig.savefig(\"ROC_Curve.png\",dpi = 1000)"
   ]
  }
 ],
 "metadata": {
  "kernelspec": {
   "display_name": "Python 3",
   "language": "python",
   "name": "python3"
  },
  "language_info": {
   "codemirror_mode": {
    "name": "ipython",
    "version": 3
   },
   "file_extension": ".py",
   "mimetype": "text/x-python",
   "name": "python",
   "nbconvert_exporter": "python",
   "pygments_lexer": "ipython3",
   "version": "3.7.3"
  }
 },
 "nbformat": 4,
 "nbformat_minor": 2
}
